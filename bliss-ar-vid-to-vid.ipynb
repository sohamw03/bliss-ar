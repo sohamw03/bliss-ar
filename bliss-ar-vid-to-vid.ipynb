{
  "cells": [
    {
      "cell_type": "code",
      "source": [
        "!pip install diffusers accelerate safetensors transformers gradio==3.37.0"
      ],
      "metadata": {
        "id": "4EMizjbnu76E"
      },
      "execution_count": null,
      "outputs": []
    },
    {
      "cell_type": "markdown",
      "source": [
        "# Manual inference"
      ],
      "metadata": {
        "id": "-V8q14q-0yPM"
      }
    },
    {
      "cell_type": "code",
      "source": [
        "import PIL\n",
        "import requests\n",
        "import torch\n",
        "from diffusers import StableDiffusionInstructPix2PixPipeline, EulerAncestralDiscreteScheduler\n",
        "\n",
        "model_id = \"timbrooks/instruct-pix2pix\"\n",
        "pipe = StableDiffusionInstructPix2PixPipeline.from_pretrained(model_id, torch_dtype=torch.float16, safety_checker=None)\n",
        "pipe.to(\"cuda\")\n",
        "pipe.scheduler = EulerAncestralDiscreteScheduler.from_config(pipe.scheduler.config)\n",
        "\n",
        "url = \"https://raw.githubusercontent.com/timothybrooks/instruct-pix2pix/main/imgs/example.jpg\"\n",
        "def download_image(url):\n",
        "    image = PIL.Image.open(requests.get(url, stream=True).raw)\n",
        "    image = PIL.ImageOps.exif_transpose(image)\n",
        "    image = image.convert(\"RGB\")\n",
        "    return image\n",
        "image = download_image(url)\n",
        "\n",
        "prompt = \"turn him into cyborg\"\n",
        "images = pipe(prompt, image=image, num_inference_steps=10, image_guidance_scale=1).images\n",
        "images[0]"
      ],
      "metadata": {
        "id": "Eu83WFcPz2YF"
      },
      "execution_count": null,
      "outputs": []
    },
    {
      "cell_type": "markdown",
      "source": [
        "# Gradio implementation"
      ],
      "metadata": {
        "id": "JUQMDf4h0tvK"
      }
    },
    {
      "cell_type": "code",
      "source": [
        "import gradio as gr\n",
        "from IPython import get_ipython\n",
        "from IPython.display import display\n",
        "import PIL\n",
        "import requests\n",
        "import torch\n",
        "from diffusers import StableDiffusionInstructPix2PixPipeline, EulerAncestralDiscreteScheduler\n",
        "import os\n",
        "\n",
        "# Load the model (same as before)\n",
        "model_id = \"timbrooks/instruct-pix2pix\"\n",
        "pipe = StableDiffusionInstructPix2PixPipeline.from_pretrained(model_id, torch_dtype=torch.float16, safety_checker=None)\n",
        "pipe.to(\"cuda\")\n",
        "pipe.scheduler = EulerAncestralDiscreteScheduler.from_config(pipe.scheduler.config)\n",
        "\n",
        "# Define a function for downloading and saving images\n",
        "def download_and_save_image(url, filename):\n",
        "    \"\"\"Downloads an image and saves it to a file.\"\"\"\n",
        "    image = PIL.Image.open(requests.get(url, stream=True).raw)\n",
        "    image = PIL.ImageOps.exif_transpose(image)\n",
        "    image = image.convert(\"RGB\")\n",
        "    image.save(filename)  # Save the image to a file\n",
        "    return filename # Return the filename\n",
        "\n",
        "# Define the main inference function for the Gradio app\n",
        "def inference(image, prompt):\n",
        "    # No need to convert to PIL Image as it's already in PIL Image format\n",
        "    # image = PIL.Image.fromarray(image)\n",
        "    images = pipe(prompt, image=image, num_inference_steps=10, image_guidance_scale=1).images\n",
        "    images[0].save(\"output.png\")\n",
        "    return images[0]\n",
        "\n",
        "# Download and save example images\n",
        "example_image_1 = download_and_save_image(\"https://raw.githubusercontent.com/timothybrooks/instruct-pix2pix/main/imgs/example.jpg\", \"example1.jpg\")\n",
        "example_image_2 = download_and_save_image(\"https://raw.githubusercontent.com/timothybrooks/instruct-pix2pix/main/imgs/example.jpg\", \"example2.jpg\")\n",
        "\n",
        "iface = gr.Interface(\n",
        "    fn=inference,\n",
        "    inputs=[gr.Image(type=\"pil\"), gr.Textbox(lines=1, placeholder=\"Enter your prompt here...\")],\n",
        "    outputs=gr.Image(type=\"pil\"),\n",
        "    title=\"Instruct Pix2Pix Demo\",\n",
        "    description=\"Turn your images into something new with Instruct Pix2Pix!\",\n",
        "    examples=[\n",
        "          [example_image_1, \"turn him into cyborg\"], # Use filenames instead of image objects\n",
        "          [example_image_2, \"make him a robot\"], # Use filenames instead of image objects\n",
        "          ]\n",
        ")\n",
        "\n",
        "iface.launch(share=True, debug=True)"
      ],
      "metadata": {
        "id": "QgPFcKiw0j2r"
      },
      "execution_count": null,
      "outputs": []
    }
  ],
  "metadata": {
    "language_info": {
      "name": "python"
    },
    "colab": {
      "provenance": [],
      "gpuType": "T4"
    },
    "accelerator": "GPU",
    "kernelspec": {
      "name": "python3",
      "display_name": "Python 3"
    }
  },
  "nbformat": 4,
  "nbformat_minor": 0
}